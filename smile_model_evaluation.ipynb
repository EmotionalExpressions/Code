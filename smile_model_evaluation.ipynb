{
 "cells": [
  {
   "cell_type": "code",
   "execution_count": 1,
   "id": "initial_id",
   "metadata": {
    "collapsed": true,
    "ExecuteTime": {
     "end_time": "2025-09-29T12:30:04.117868Z",
     "start_time": "2025-09-29T12:30:01.375807Z"
    }
   },
   "outputs": [
    {
     "name": "stdout",
     "output_type": "stream",
     "text": [
      "WARNING:tensorflow:From d:\\anaconda3\\envs\\torch11\\lib\\site-packages\\keras\\src\\losses.py:2976: The name tf.losses.sparse_softmax_cross_entropy is deprecated. Please use tf.compat.v1.losses.sparse_softmax_cross_entropy instead.\n"
     ]
    }
   ],
   "source": [
    "import numpy as np\n",
    "import tensorflow as tf\n",
    "from sklearn.metrics import mean_squared_error, mean_absolute_error, r2_score\n",
    "import pickle"
   ]
  },
  {
   "cell_type": "code",
   "outputs": [],
   "source": [
    "# Paths\n",
    "pkl_path = \"smile_test_data.pkl\"\n",
    "model_path = \"smile_best_model.h5\""
   ],
   "metadata": {
    "collapsed": false,
    "ExecuteTime": {
     "end_time": "2025-09-29T12:30:04.133903Z",
     "start_time": "2025-09-29T12:30:04.118874Z"
    }
   },
   "id": "fad60b98e9229378",
   "execution_count": 2
  },
  {
   "cell_type": "code",
   "outputs": [
    {
     "name": "stdout",
     "output_type": "stream",
     "text": [
      "Test data loaded successfully\n"
     ]
    },
    {
     "data": {
      "text/plain": "dict_keys(['X_test', 'y_test', 'test_ids'])"
     },
     "execution_count": 3,
     "metadata": {},
     "output_type": "execute_result"
    }
   ],
   "source": [
    "# Step 1: Load test data from pickle file\n",
    "with open(pkl_path, \"rb\") as f:\n",
    "    data = pickle.load(f)\n",
    "print(\"Test data loaded successfully\")\n",
    "data.keys()"
   ],
   "metadata": {
    "collapsed": false,
    "ExecuteTime": {
     "end_time": "2025-09-29T12:30:04.150017Z",
     "start_time": "2025-09-29T12:30:04.134956Z"
    }
   },
   "id": "5c88ccec0b3be1e7",
   "execution_count": 3
  },
  {
   "cell_type": "code",
   "outputs": [
    {
     "data": {
      "text/plain": "array([[0.  , 0.  , 0.22, 0.  , 0.  , 0.85, 0.  , 0.  , 0.  , 0.  , 0.01,\n        0.44, 0.5 , 0.  , 1.78, 2.95, 1.77, 0.  , 0.  , 1.  , 0.  , 0.  ,\n        1.  , 0.  , 0.  , 0.  , 0.  , 0.  , 0.  , 0.  , 0.  , 1.  , 1.  ,\n        1.  ],\n       [0.  , 0.  , 0.  , 0.  , 0.  , 0.96, 0.  , 0.  , 0.  , 0.  , 0.  ,\n        0.58, 0.  , 0.  , 0.36, 0.  , 0.  , 0.  , 0.  , 0.  , 1.  , 0.  ,\n        0.  , 0.  , 0.  , 0.  , 0.  , 0.  , 1.  , 0.  , 0.  , 0.  , 0.  ,\n        0.  ],\n       [0.03, 0.  , 0.  , 0.  , 0.  , 0.47, 0.  , 0.  , 0.  , 0.  , 0.  ,\n        0.  , 0.  , 0.  , 0.82, 0.11, 1.25, 0.  , 0.  , 0.  , 1.  , 0.  ,\n        0.  , 0.  , 0.  , 0.  , 0.  , 0.  , 0.  , 0.  , 0.  , 0.  , 0.  ,\n        1.  ]], dtype=float32)"
     },
     "execution_count": 4,
     "metadata": {},
     "output_type": "execute_result"
    }
   ],
   "source": [
    "# # Extract X_test (AU features) from the loaded pickle data and display the first 3 samples \n",
    "X_test = data[\"X_test\"]\n",
    "X_test[:3]\n"
   ],
   "metadata": {
    "collapsed": false,
    "ExecuteTime": {
     "end_time": "2025-09-29T12:30:04.165335Z",
     "start_time": "2025-09-29T12:30:04.150925Z"
    }
   },
   "id": "6e1e8bc1d2a4b08c",
   "execution_count": 4
  },
  {
   "cell_type": "code",
   "outputs": [
    {
     "data": {
      "text/plain": "array([5, 5, 5])"
     },
     "execution_count": 5,
     "metadata": {},
     "output_type": "execute_result"
    }
   ],
   "source": [
    "# # Extract y_test (smile value ) from the loaded pickle data and display the first 3 samples \n",
    "y_test = data[\"y_test\"]\n",
    "y_test[:3]"
   ],
   "metadata": {
    "collapsed": false,
    "ExecuteTime": {
     "end_time": "2025-09-29T12:30:04.180830Z",
     "start_time": "2025-09-29T12:30:04.165939Z"
    }
   },
   "id": "6004d4bb784a6b8d",
   "execution_count": 5
  },
  {
   "cell_type": "code",
   "outputs": [
    {
     "name": "stdout",
     "output_type": "stream",
     "text": [
      "WARNING:tensorflow:From d:\\anaconda3\\envs\\torch11\\lib\\site-packages\\keras\\src\\backend.py:1398: The name tf.executing_eagerly_outside_functions is deprecated. Please use tf.compat.v1.executing_eagerly_outside_functions instead.\n",
      "Model Structure:\n",
      "Model: \"sequential\"\n",
      "_________________________________________________________________\n",
      " Layer (type)                Output Shape              Param #   \n",
      "=================================================================\n",
      " dense (Dense)               (None, 256)               8960      \n",
      "                                                                 \n",
      " batch_normalization (Batch  (None, 256)               1024      \n",
      " Normalization)                                                  \n",
      "                                                                 \n",
      " dropout (Dropout)           (None, 256)               0         \n",
      "                                                                 \n",
      " dense_1 (Dense)             (None, 128)               32896     \n",
      "                                                                 \n",
      " batch_normalization_1 (Bat  (None, 128)               512       \n",
      " chNormalization)                                                \n",
      "                                                                 \n",
      " dense_2 (Dense)             (None, 64)                8256      \n",
      "                                                                 \n",
      " batch_normalization_2 (Bat  (None, 64)                256       \n",
      " chNormalization)                                                \n",
      "                                                                 \n",
      " dense_3 (Dense)             (None, 1)                 65        \n",
      "                                                                 \n",
      "=================================================================\n",
      "Total params: 51969 (203.00 KB)\n",
      "Trainable params: 51073 (199.50 KB)\n",
      "Non-trainable params: 896 (3.50 KB)\n",
      "_________________________________________________________________\n"
     ]
    }
   ],
   "source": [
    "# Step 2: Load the best model\n",
    "best_model = tf.keras.models.load_model(model_path, compile=False)\n",
    "\n",
    "# Print model structure\n",
    "print(\"Model Structure:\")\n",
    "best_model.summary()"
   ],
   "metadata": {
    "collapsed": false,
    "ExecuteTime": {
     "end_time": "2025-09-29T12:30:04.396954Z",
     "start_time": "2025-09-29T12:30:04.182188Z"
    }
   },
   "id": "e679982298944be1",
   "execution_count": 6
  },
  {
   "cell_type": "code",
   "outputs": [
    {
     "name": "stdout",
     "output_type": "stream",
     "text": [
      "31/31 [==============================] - 0s 735us/step\n",
      "Predictions generated\n"
     ]
    }
   ],
   "source": [
    "# Step 3: Make predictions\n",
    "y_pred_test = best_model.predict(X_test).flatten()\n",
    "print(\"Predictions generated\")"
   ],
   "metadata": {
    "collapsed": false,
    "ExecuteTime": {
     "end_time": "2025-09-29T12:30:04.568303Z",
     "start_time": "2025-09-29T12:30:04.398529Z"
    }
   },
   "id": "649f402449b0a374",
   "execution_count": 7
  },
  {
   "cell_type": "code",
   "outputs": [],
   "source": [
    "# Step 4: Compute metrics\n",
    "mse = mean_squared_error(y_test, y_pred_test)\n",
    "mae = mean_absolute_error(y_test, y_pred_test)\n",
    "rmse = np.sqrt(mse)\n",
    "r2 = r2_score(y_test, y_pred_test)"
   ],
   "metadata": {
    "collapsed": false,
    "ExecuteTime": {
     "end_time": "2025-09-29T12:30:05.607719Z",
     "start_time": "2025-09-29T12:30:05.590877Z"
    }
   },
   "id": "20ba204f8d8e3064",
   "execution_count": 8
  },
  {
   "cell_type": "code",
   "outputs": [
    {
     "name": "stdout",
     "output_type": "stream",
     "text": [
      "Evaluation Metrics:\n",
      "{'mse': 3.8049418926239014, 'mae': 1.4549956321716309, 'rmse': 1.9506260258245047}\n"
     ]
    }
   ],
   "source": [
    "metrics = {'mse': mse, 'mae': mae, 'rmse': rmse}\n",
    "print(\"Evaluation Metrics:\")\n",
    "print(metrics)"
   ],
   "metadata": {
    "collapsed": false,
    "ExecuteTime": {
     "end_time": "2025-09-29T12:30:07.952450Z",
     "start_time": "2025-09-29T12:30:07.942801Z"
    }
   },
   "id": "ebcdf9ec131bfcfa",
   "execution_count": 9
  },
  {
   "cell_type": "code",
   "outputs": [],
   "source": [],
   "metadata": {
    "collapsed": false
   },
   "id": "8075dd58c29e24f9"
  }
 ],
 "metadata": {
  "kernelspec": {
   "display_name": "Python 3",
   "language": "python",
   "name": "python3"
  },
  "language_info": {
   "codemirror_mode": {
    "name": "ipython",
    "version": 2
   },
   "file_extension": ".py",
   "mimetype": "text/x-python",
   "name": "python",
   "nbconvert_exporter": "python",
   "pygments_lexer": "ipython2",
   "version": "2.7.6"
  }
 },
 "nbformat": 4,
 "nbformat_minor": 5
}
